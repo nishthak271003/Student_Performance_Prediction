{
 "cells": [
  {
   "cell_type": "code",
   "execution_count": 1,
   "id": "357c5516",
   "metadata": {},
   "outputs": [
    {
     "name": "stdout",
     "output_type": "stream",
     "text": [
      "Attendance: 89, Assignment: 90 => Predicted Marks: 91.68\n",
      "Attendance: 78, Assignment: 92 => Predicted Marks: 93.67\n"
     ]
    }
   ],
   "source": [
    "import pandas as pd\n",
    "from sklearn.model_selection import train_test_split\n",
    "from sklearn.linear_model import LinearRegression\n",
    "import joblib\n",
    "\n",
    "# STEP 1: Load the CSV file\n",
    "df = pd.read_csv(\"students_export.csv\")\n",
    "\n",
    "# STEP 2: Drop columns not needed for prediction\n",
    "df = df.drop(columns=[\"id\", \"name\"])\n",
    "\n",
    "# STEP 3: Define Features (X) and Target (y)\n",
    "X = df[[\"attendance\", \"assignment_score\"]]\n",
    "y = df[\"marks\"]\n",
    "\n",
    "# STEP 4: Split data into train and test sets\n",
    "X_train, X_test, y_train, y_test = train_test_split(X, y, test_size=0.2, random_state=42)\n",
    "\n",
    "# STEP 5: Train the model\n",
    "model = LinearRegression()\n",
    "model.fit(X_train, y_train)\n",
    "\n",
    "# STEP 6: Save the trained model for later use\n",
    "joblib.dump(model, \"student_marks_predictor.pkl\")\n",
    "\n",
    "# STEP 7: Predict using test data\n",
    "predictions = model.predict(X_test)\n",
    "\n",
    "# STEP 8: Show predictions (optional)\n",
    "for i in range(len(X_test)):\n",
    "    print(f\"Attendance: {X_test.iloc[i]['attendance']}, Assignment: {X_test.iloc[i]['assignment_score']} => Predicted Marks: {predictions[i]:.2f}\")\n"
   ]
  },
  {
   "cell_type": "code",
   "execution_count": 2,
   "id": "87b73e1a",
   "metadata": {},
   "outputs": [
    {
     "name": "stdout",
     "output_type": "stream",
     "text": [
      "Model saved successfully as student_model.pkl\n"
     ]
    }
   ],
   "source": [
    "import pickle\n",
    "\n",
    "# Save the trained model\n",
    "with open(\"student_model.pkl\", \"wb\") as f:\n",
    "    pickle.dump(model, f)\n",
    "\n",
    "print(\"Model saved successfully as student_model.pkl\")\n"
   ]
  },
  {
   "cell_type": "code",
   "execution_count": null,
   "id": "2c2cab6b",
   "metadata": {},
   "outputs": [],
   "source": []
  }
 ],
 "metadata": {
  "kernelspec": {
   "display_name": "Python 3 (ipykernel)",
   "language": "python",
   "name": "python3"
  },
  "language_info": {
   "codemirror_mode": {
    "name": "ipython",
    "version": 3
   },
   "file_extension": ".py",
   "mimetype": "text/x-python",
   "name": "python",
   "nbconvert_exporter": "python",
   "pygments_lexer": "ipython3",
   "version": "3.10.9"
  }
 },
 "nbformat": 4,
 "nbformat_minor": 5
}
